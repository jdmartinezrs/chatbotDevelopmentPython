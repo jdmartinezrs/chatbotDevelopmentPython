{
  "nbformat": 4,
  "nbformat_minor": 0,
  "metadata": {
    "colab": {
      "provenance": [],
      "authorship_tag": "ABX9TyPg04oyH2jMhEhlaIUO8lYD",
      "include_colab_link": true
    },
    "kernelspec": {
      "name": "python3",
      "display_name": "Python 3"
    },
    "language_info": {
      "name": "python"
    }
  },
  "cells": [
    {
      "cell_type": "markdown",
      "metadata": {
        "id": "view-in-github",
        "colab_type": "text"
      },
      "source": [
        "<a href=\"https://colab.research.google.com/github/jdmartinezrs/chatbotDevelopmentPython/blob/main/chatterbot.ipynb\" target=\"_parent\"><img src=\"https://colab.research.google.com/assets/colab-badge.svg\" alt=\"Open In Colab\"/></a>"
      ]
    },
    {
      "cell_type": "code",
      "execution_count": null,
      "metadata": {
        "id": "KwNaOz7myK7T"
      },
      "outputs": [],
      "source": [
        "# Paso 1: Instalar ChatterBot (si no está instalado)\n",
        "!pip install git+https://github.com/gunthercox/ChatterBot.git@master\n",
        "!pip install chatterbot_corpus"
      ]
    },
    {
      "cell_type": "code",
      "source": [
        "# Paso 2: Importar librerías necesarias\n",
        "from chatterbot import ChatBot  # Clase base para crear el bot\n",
        "from chatterbot.trainers import ListTrainer  # Entrenador manual"
      ],
      "metadata": {
        "id": "K0Ju0cS6yMGl"
      },
      "execution_count": null,
      "outputs": []
    },
    {
      "cell_type": "code",
      "source": [
        "# Paso 3: Crear el chatbot con configuración básica\n",
        "# read_only=True → evita que el bot aprenda cosas incorrectas en tiempo real\n",
        "# logic_adapters=['BestMatch'] → usa coincidencia de frases para responder lo más parecido posible\n",
        "bot = ChatBot('TiendaBot', read_only=True, logic_adapters=['chatterbot.logic.BestMatch'])"
      ],
      "metadata": {
        "id": "z2xrQzBzyTWO"
      },
      "execution_count": null,
      "outputs": []
    },
    {
      "cell_type": "code",
      "source": [
        "# Paso 4: Crear la lista de productos con sus precios\n",
        "# Usamos un diccionario llamado 'productos' donde las claves son nombres y los valores sus precios\n",
        "productos = {\n",
        "    \"arroz\": 2000,\n",
        "    \"leche\": 3000,\n",
        "    \"pan\": 1000,\n",
        "    \"huevos\": 5000\n",
        "}\n",
        "# Creamos una lista vacía llamada 'carrito' que almacenará lo que el usuario agregue\n",
        "carrito = []\n",
        "\n",
        "# Paso 5: Entrenar el bot con frases básicas\n",
        "# Estas son frases predefinidas para que el bot sepa saludar, mostrar lista, agradecer y despedirse\n",
        "conversacion = [\n",
        "    \"Hola\", \"¡Bienvenido a la tienda! ¿Qué deseas comprar?\",\n",
        "    \"Lista de productos\", \"Tenemos: arroz ($2000), leche ($3000), pan ($1000), huevos ($5000)\",\n",
        "    \"Gracias\", \"¡Con gusto!\",\n",
        "    \"Adiós\", \"¡Hasta pronto!\"\n",
        "]\n",
        "\n",
        "# Se entrena el bot con el listado anterior usando ListTrainer\n",
        "trainer = ListTrainer(bot)\n",
        "trainer.train(conversacion)\n",
        "\n",
        "# Paso 6: Procesar la entrada del usuario de forma personalizada\n",
        "# Esta función analiza la frase ingresada y responde con lógica personalizada según su contenido\n",
        "\n",
        "def procesar_entrada(entrada):\n",
        "    entrada = entrada.lower()  # Convertimos a minúsculas para facilitar comparaciones\n",
        "\n",
        "    # Si el usuario menciona 'lista' o 'productos', mostrar el catálogo\n",
        "    if \"lista\" in entrada or \"productos\" in entrada:\n",
        "        return \"Tenemos: \" + \", \".join([f\"{p} (${productos[p]})\" for p in productos])\n",
        "\n",
        "    # Si el usuario menciona un producto, lo añadimos al carrito\n",
        "    elif any(prod in entrada for prod in productos):\n",
        "        for prod in productos:\n",
        "            if prod in entrada:\n",
        "                carrito.append(prod)\n",
        "                return f\"{prod.capitalize()} añadido al carrito.\"\n",
        "\n",
        "    # Si el usuario pregunta por el carrito, se muestra lo que hay\n",
        "    elif \"carrito\" in entrada:\n",
        "        if carrito:\n",
        "            total = sum(productos[p] for p in carrito)    # Suma total con base en los productos añadidos\n",
        "            return f\"Tu carrito: {', '.join(carrito)}. Total: ${total}\"\n",
        "        else:\n",
        "            return \"Tu carrito está vacío.\"\n",
        "\n",
        "    # Si el usuario quiere confirmar la compra\n",
        "    elif \"confirmar\" in entrada or \"comprar\" in entrada:\n",
        "        total = sum(productos[p] for p in carrito)\n",
        "        carrito.clear()\n",
        "        return f\"Compra confirmada. Total: ${total}. ¡Gracias por tu compra!\"\n",
        "\n",
        "    # Si ninguna condición anterior se cumple, se deja que el bot responda\n",
        "    else:\n",
        "        return str(bot.get_response(entrada))\n",
        "\n",
        "# Paso 7: Ejecutar el bucle conversacional\n",
        "# Este bucle permite que el usuario escriba mensajes y reciba respuestas hasta que escriba 'salir'\n",
        "print(\"Chatbot activado. Escribe 'salir' para terminar.\")\n",
        "while True:\n",
        "    user_input = input(\"Tú: \")  # Entrada del usuario\n",
        "\n",
        "    if user_input.lower() == \"salir\":\n",
        "        print(\"Bot: ¡Gracias por visitarnos!\")\n",
        "        break  # Rompe el bucle y termina la conversación\n",
        "\n",
        "    respuesta = procesar_entrada(user_input)  # Procesamos la entrada\n",
        "    print(\"Bot:\", respuesta)  # Mostramos la respuesta del bot"
      ],
      "metadata": {
        "id": "8XNVUeSByXDz"
      },
      "execution_count": null,
      "outputs": []
    }
  ]
}